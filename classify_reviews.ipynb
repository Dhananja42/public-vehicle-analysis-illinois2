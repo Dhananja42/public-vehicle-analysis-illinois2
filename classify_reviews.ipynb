{
 "cells": [
  {
   "cell_type": "code",
   "execution_count": null,
   "metadata": {},
   "outputs": [],
   "source": [
    "# Import necessary libraries\n",
    "from transformers import pipeline\n",
    "import pandas as pd\n",
    "\n",
    "# Load the dataset\n",
    "df = pd.read_csv('car_reviews.csv')\n",
    "\n",
    "# Define the categories for classification\n",
    "categories = [\n",
    "    \"talks about driving experience\",\n",
    "    \"talks about features\",\n",
    "    \"talks about value for money\",\n",
    "    \"talks about issues\",\n",
    "    \"other\"  \n",
    "]\n",
    "\n",
    "# Initialize the zero-shot classification pipeline\n",
    "classifier = pipeline(\"zero-shot-classification\", model=\"facebook/bart-large-mnli\")\n",
    "\n",
    "# Function to classify a single review\n",
    "def classify_review(review):\n",
    "    try:\n",
    "        result = classifier(review, candidate_labels=categories)\n",
    "        return result['labels'][0]  # Return the label with the highest score\n",
    "    except Exception as e:\n",
    "        return \"error\"  # Handle exceptions and return \"error\" for problematic reviews\n",
    "\n",
    "# Apply classification to each review\n",
    "df['talks_about'] = df['Review'].apply(classify_review)\n",
    "\n",
    "# Save the updated dataset\n",
    "df.to_csv('classified_car_reviews.csv', index=False)\n",
    "\n",
    "# Display the first few rows of the updated dataset\n",
    "print(df.head())"
   ]
  },
  {
   "cell_type": "code",
   "execution_count": null,
   "metadata": {},
   "outputs": [
    {
     "ename": "ModuleNotFoundError",
     "evalue": "No module named 'matplotlib'",
     "output_type": "error",
     "traceback": [
      "\u001b[0;31m---------------------------------------------------------------------------\u001b[0m",
      "\u001b[0;31mModuleNotFoundError\u001b[0m                       Traceback (most recent call last)",
      "Cell \u001b[0;32mIn[1], line 2\u001b[0m\n\u001b[1;32m      1\u001b[0m \u001b[38;5;28;01mimport\u001b[39;00m \u001b[38;5;21;01mpandas\u001b[39;00m \u001b[38;5;28;01mas\u001b[39;00m \u001b[38;5;21;01mpd\u001b[39;00m\n\u001b[0;32m----> 2\u001b[0m \u001b[38;5;28;01mimport\u001b[39;00m \u001b[38;5;21;01mmatplotlib\u001b[39;00m\u001b[38;5;21;01m.\u001b[39;00m\u001b[38;5;21;01mpyplot\u001b[39;00m \u001b[38;5;28;01mas\u001b[39;00m \u001b[38;5;21;01mplt\u001b[39;00m\n\u001b[1;32m      4\u001b[0m \u001b[38;5;66;03m# Load the CSV file into a DataFrame\u001b[39;00m\n\u001b[1;32m      5\u001b[0m file_path \u001b[38;5;241m=\u001b[39m \u001b[38;5;124m'\u001b[39m\u001b[38;5;124mcar_reviews.csv\u001b[39m\u001b[38;5;124m'\u001b[39m  \u001b[38;5;66;03m# Replace with the path to your CSV file\u001b[39;00m\n",
      "\u001b[0;31mModuleNotFoundError\u001b[0m: No module named 'matplotlib'"
     ]
    }
   ],
   "source": [
    "import pandas as pd\n",
    "\n",
    "# Load the CSV file into a DataFrame\n",
    "file_path = 'car_reviews.csv'  # Replace with the path to your CSV file\n",
    "data = pd.read_csv(file_path)\n",
    "\n",
    "# Display the first few rows to understand the structure\n",
    "print(data.head())\n",
    "\n",
    "# Assuming the CSV has columns \"Category\" and \"Value\"\n",
    "# Replace \"Category\" and \"Value\" with your actual column names\n",
    "categories = data['Category']\n",
    "values = data['Value']\n",
    "\n",
    "# Create the bar chart\n",
    "plt.figure(figsize=(10, 6))\n",
    "plt.bar(categories, values, color='skyblue')\n",
    "plt.xlabel('Category', fontsize=14)\n",
    "plt.ylabel('Value', fontsize=14)\n",
    "plt.title('Bar Chart Example', fontsize=16)\n",
    "plt.xticks(rotation=45, ha='right')  # Rotate category labels for better visibility\n",
    "plt.tight_layout()\n",
    "\n",
    "# Show the bar chart\n",
    "plt.show()\n"
   ]
  }
 ],
 "metadata": {
  "kernelspec": {
   "display_name": ".env",
   "language": "python",
   "name": "python3"
  },
  "language_info": {
   "codemirror_mode": {
    "name": "ipython",
    "version": 3
   },
   "file_extension": ".py",
   "mimetype": "text/x-python",
   "name": "python",
   "nbconvert_exporter": "python",
   "pygments_lexer": "ipython3",
   "version": "3.12.7"
  }
 },
 "nbformat": 4,
 "nbformat_minor": 2
}
